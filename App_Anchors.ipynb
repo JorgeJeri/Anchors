{
 "cells": [
  {
   "cell_type": "markdown",
   "metadata": {},
   "source": [
    "# Desarrollo del software de anclajes"
   ]
  },
  {
   "cell_type": "markdown",
   "metadata": {},
   "source": [
    "## Importar librerías"
   ]
  },
  {
   "cell_type": "code",
   "execution_count": 1,
   "metadata": {},
   "outputs": [],
   "source": [
    "from    tkinter             import *\n",
    "from    tkinter             import ttk \n",
    "import  tkinter             as tk\n",
    "import  matplotlib.pyplot   as plt\n",
    "from    matplotlib.backends.backend_tkagg import FigureCanvasTkAgg #Realizar gráficos en tkinter con la librería plt\n",
    "from    PIL                 import ImageTk, Image # Cargar imagenes a la ventana\n",
    "import  numpy               as np\n",
    "from    math                import *\n",
    "import  pandas              as pd\n",
    "from tkinter.font import Font"
   ]
  },
  {
   "cell_type": "markdown",
   "metadata": {},
   "source": [
    "## Iniciar ventana"
   ]
  },
  {
   "cell_type": "code",
   "execution_count": 2,
   "metadata": {},
   "outputs": [],
   "source": [
    "root = Tk() #Crea la ventana de la aplicación, esto importante en caso de crear más de una ventana"
   ]
  },
  {
   "cell_type": "markdown",
   "metadata": {},
   "source": [
    "## Diseño de ventana"
   ]
  },
  {
   "cell_type": "code",
   "execution_count": 3,
   "metadata": {},
   "outputs": [],
   "source": [
    "root.title(\"Anclajes V.01\")\n",
    "frm = ttk.Frame(root , relief=SOLID) #Crea un recuadro\n",
    "frm.grid() #Al recuadro se da formato grilla"
   ]
  },
  {
   "cell_type": "markdown",
   "metadata": {},
   "source": [
    "## Font"
   ]
  },
  {
   "cell_type": "code",
   "execution_count": 4,
   "metadata": {},
   "outputs": [],
   "source": [
    "# Font of the titles\n",
    "font_title      = Font(weight=\"bold\" , size=10 , family='Helvetica' ,underline=True)\n",
    "\n",
    "# Font of the labels\n",
    "font_label      = Font(weight='bold' , size=8 , family='Helvetica')"
   ]
  },
  {
   "cell_type": "markdown",
   "metadata": {},
   "source": [
    "## Datos iniciales"
   ]
  },
  {
   "cell_type": "code",
   "execution_count": 5,
   "metadata": {},
   "outputs": [],
   "source": [
    "Label_nombre_anclaje          = Label(frm, text=\"ID Anclaje\" , font=font_label).grid(column=0 , row= 0)         \n",
    "Entry_nombre_anclaje          = Entry(frm , justify='center').grid(column=1 , row= 0)\n",
    "\n",
    "Label_Nivel                   = Label(frm, text=\"Nivel\" , font=font_label).grid(column=0 , row= 1)\n",
    "Entry_nivel                   = Entry(frm, justify='center').grid(column=1 , row= 1)\n",
    "\n",
    "Division                      = DoubleVar()\n",
    "Division.set(0.01)\n",
    "Label_Division                = Label(frm, text='Div.Instrumento' , font=font_label).grid(column=4 , row=0)\n",
    "Entry_Division                = Entry(frm, textvariable=Division , justify='center')\n",
    "Entry_Division.grid(column=5 , row=0)\n",
    "\n",
    "Label_Fecha                   = Label(frm, text='Fecha' , font=font_label).grid(column=4 , row=1)\n",
    "Entry_Fecha                   = Entry(frm , justify='center').grid(column=5 , row=1)\n",
    "\n",
    "Percentage_load_step     = [0.15 , 0.25 , 0.50 , 0.75 , 0.95 , 1.00]\n",
    "Percentage_creep_step    = [1.00 , 1.00 , 1.00 , 1.00 , 1.00]            \n",
    "Percentage_download_step = [0.85 , 0.75 , 0.65 , 0.50]\n",
    "Percentage_reload_step   = [0.65 , 0.75 , 0.85 , 1.00]\n",
    "\n",
    "Label_Step                    = Label(frm, text='Escalón de carga' , font=font_label).grid(column=0 , row=8) # Etiqueta de la columna Porcentaje\n",
    "Label_Presion                 = Label(frm, text='Presión [bar]' , font=font_label).grid(column=1 , row=8)    # Etiqueta de la columna Presión\n",
    "Label_Lectura                 = Label(frm, text='Lectura' , font=font_label).grid(column=2 , row=8)          # Etiqueta de la columna Lectura\n",
    "Label_Carga                   = Label(frm, text='Carga [kN]' , font=font_label).grid(column=3 , row=8)       # Etiqueta de la columna Carga\n",
    "Label_Deformacion             = Label(frm, text='Deformación [mm]' , font=font_label).grid(column=4 , row=8) # Etiqueta de la columna Deformación\n",
    "\n",
    "Label_Carga_servicio          = Label(frm, text=\"Carga de Servicio [kN]\" , font=font_label).grid(column=6, row=1)\n",
    "Carga_servicio                = DoubleVar() # Asigna el tipo de dato\n",
    "Entry_Carga_servicio          = Entry(frm , textvariable = Carga_servicio , justify='center') # Escribir así la entrada porque sino despues  \n",
    "Entry_Carga_servicio.grid(column=7, row=1)                                                  # no se puede aplicar la función .get()\n",
    "\n",
    "Label_Test_coefficient        = Label(frm, text=\"Coeficiente de ensayo\" , font=font_label).grid(column=6, row=0)\n",
    "Test_coefficient              = DoubleVar()\n",
    "Test_coefficient.set(1.2)                                                                   # We assign an initial reference value\n",
    "Entry_Test_coefficient        = Entry(frm , textvariable = Test_coefficient , justify='center')\n",
    "Entry_Test_coefficient.grid(column=7, row=0) \n",
    "\n",
    "Label_Test_load               = Label(frm , text=\"Carga de ensayo [kN]\" , font=font_label , justify='center').grid(column=6, row=2)\n",
    "Test_load                     = DoubleVar()\n",
    "Entry_Test_load               = Entry(frm , textvariable = Test_load , justify='center')\n",
    "Entry_Test_load.grid(column=7, row=2)"
   ]
  },
  {
   "cell_type": "markdown",
   "metadata": {},
   "source": [
    "## Logo SRK"
   ]
  },
  {
   "cell_type": "code",
   "execution_count": 6,
   "metadata": {},
   "outputs": [],
   "source": [
    "# Cargar la imagen\n",
    "imagen_srk      = Image.open(r\"C:\\Users\\jjeri\\OneDrive - SRK Consulting\\SRK!\\TKINTER\\Anchors\\logo_srk.png\")\n",
    "imagen_srk      = imagen_srk.resize((90,30))  # Cambiar el tamaño si es necesario\n",
    "imagen_srk_tk   = ImageTk.PhotoImage(imagen_srk)\n",
    "\n",
    "# Crear una etiqueta para mostrar la imagen\n",
    "label_imagen_srk = Label(frm, image=imagen_srk_tk) \n",
    "label_imagen_srk.grid(column=8, row=1, columnspan=3, rowspan=2)"
   ]
  },
  {
   "cell_type": "markdown",
   "metadata": {},
   "source": [
    "## Ingresar datos de gato"
   ]
  },
  {
   "cell_type": "code",
   "execution_count": 7,
   "metadata": {},
   "outputs": [],
   "source": [
    "Label_gato                    = Label(frm, text=\"Tipo de Gato\" , font=font_label).grid(column=2 , row= 0)         \n",
    "\n",
    "area_gato = DoubleVar()\n",
    "Label_area_gato               = Label(frm, text=\"Área de gato [cm2]\" , font=font_label).grid(column=2 , row= 1)         \n",
    "Entry_area_gato               = Entry(frm, textvariable=area_gato , justify='center')\n",
    "Entry_area_gato.grid(column=3 , row= 1)\n",
    "\n",
    "# Lista desplegable\n",
    "def lista_gatos(event):\n",
    "    selected_item = combo_box_area_gato.get()\n",
    "    if selected_item == \"K200\":\n",
    "        area_gato.set(314.0)\n",
    "    elif selected_item == \"K60\":\n",
    "        area_gato.set(100.0)\n",
    "    elif selected_item == \"K20\":\n",
    "        area_gato.set(86.0)\n",
    "    else:\n",
    "        area_gato.set(0.0)\n",
    "\n",
    "# Crear la primera lista desplegable\n",
    "combo_box_area_gato            = ttk.Combobox(frm,textvariable=\"Tipo de gato\" ,values=[\"K20\", \"K60\", \"K200\" , \"User define\"] , justify='center')\n",
    "combo_box_area_gato.bind(\"<<ComboboxSelected>>\", lista_gatos)\n",
    "combo_box_area_gato.grid(column=3 , row= 0)"
   ]
  },
  {
   "cell_type": "markdown",
   "metadata": {},
   "source": [
    "## Entry of step"
   ]
  },
  {
   "cell_type": "code",
   "execution_count": 8,
   "metadata": {},
   "outputs": [],
   "source": [
    "# The class for creating entry variables and labels\n",
    "\n",
    "class step:\n",
    "    def __init__(self, percentage, initial_column , initial_row , overshadow):\n",
    "        self.percentage         = percentage\n",
    "        self.initial_column     = initial_column\n",
    "        self.initial_row        = initial_row\n",
    "        self.overshadow         = overshadow\n",
    "  \n",
    "    def step(self,frm):\n",
    "        Val_Carga       = []\n",
    "        Val_Lect        = []\n",
    "        Val_Presion     = []\n",
    "        Val_Deformation = []\n",
    "        Labels          = []\n",
    "        for i in range(len(self.percentage)):\n",
    "            Aux_Carga = Label(frm, text=\"-\")\n",
    "            Aux_Carga.grid(column=self.initial_column+3, row=self.initial_row+i)\n",
    "            Val_Carga.append(Aux_Carga)       \n",
    "                \n",
    "            Aux       = DoubleVar()\n",
    "            Aux_Lect  = Entry(frm, textvariable=Aux , justify='center' , fg='blue')\n",
    "            Aux_Lect.grid(column=self.initial_column+2 , row=self.initial_row+i)\n",
    "            Val_Lect.append(Aux_Lect)\n",
    "    \n",
    "            porcentaje = self.percentage[i] * 100\n",
    "            label     = Label(frm,text=f\"{porcentaje}%\" , bg=self.overshadow) # La etiqueta esta en función de los datos del vector Percentage_load_stage\n",
    "            label.grid(column=self.initial_column , row=self.initial_row+i)\n",
    "            Labels.append(label)\n",
    "\n",
    "            Aux_1     = DoubleVar()\n",
    "            Aux_Presion = Entry(frm, textvariable=Aux_1 , justify='center' , fg='black')         \n",
    "            Aux_Presion.grid(column=self.initial_column+1, row=self.initial_row+i)\n",
    "            Val_Presion.append(Aux_Presion)\n",
    "    \n",
    "            Aux_Deformation = Label(frm, text=\"-\")\n",
    "            Aux_Deformation.grid(column=self.initial_column+4, row=self.initial_row+i)\n",
    "            Val_Deformation.append(Aux_Deformation)   \n",
    "           \n",
    "        return Val_Carga , Val_Lect , Val_Presion , Val_Deformation , Labels"
   ]
  },
  {
   "cell_type": "code",
   "execution_count": 9,
   "metadata": {},
   "outputs": [],
   "source": [
    "base_row = 11\n",
    "load_step           = step(percentage=Percentage_load_step      , initial_column=0 , initial_row=base_row          , overshadow='#74e78f')\n",
    "base_row_creep      = base_row + len(Percentage_load_step) \n",
    "creep_step          = step(percentage=Percentage_creep_step     , initial_column=0 , initial_row=base_row_creep    , overshadow='#e2785c')\n",
    "base_row_download   = base_row_creep + len(Percentage_creep_step)\n",
    "download_step       = step(percentage=Percentage_download_step  , initial_column=0 , initial_row=base_row_download , overshadow='#a5e1ed')\n",
    "base_row_reload     = base_row_download + len(Percentage_download_step)\n",
    "reload_step         = step(percentage=Percentage_reload_step    , initial_column=0 , initial_row=base_row_reload   , overshadow='#ddea9a')"
   ]
  },
  {
   "cell_type": "markdown",
   "metadata": {},
   "source": [
    "### Join"
   ]
  },
  {
   "cell_type": "code",
   "execution_count": 10,
   "metadata": {},
   "outputs": [],
   "source": [
    "# Execute functions\n",
    "Val_Carga_load_step , Val_Lect_load_step , Val_Presion_load_step , Val_Deformation_load_step , label_load_step                          = load_step.step(frm)\n",
    "Val_Carga_creep_step , Val_Lect_creep_step , Val_Presion_creep_step , Val_Deformation_creep_step , label_creep_step                     = creep_step.step(frm)\n",
    "Val_Carga_download_step , Val_Lect_download_step , Val_Presion_download_step , Val_Deformation_download_step , label_download_step      = download_step.step(frm)\n",
    "Val_Carga_reload_step , Val_Lect_reload_step , Val_Presion_reload_step , Val_Deformation_reload_step , label_reload_step                = reload_step.step(frm)\n",
    "\n",
    "# Joining stages\n",
    "Val_Lect          = Val_Lect_load_step         + Val_Lect_creep_step        + Val_Lect_download_step        + Val_Lect_reload_step\n",
    "Val_Deformation   = Val_Deformation_load_step  + Val_Deformation_creep_step + Val_Deformation_download_step + Val_Deformation_reload_step\n",
    "Val_Presion       = Val_Presion_load_step      + Val_Presion_creep_step     + Val_Presion_download_step     + Val_Presion_reload_step\n",
    "Val_Carga         = Val_Carga_load_step        + Val_Carga_creep_step       + Val_Carga_download_step       + Val_Carga_reload_step\n",
    "Percentage        = Percentage_load_step       + Percentage_creep_step      + Percentage_download_step      + Percentage_reload_step\n",
    "Val_label             = label_load_step            + label_creep_step           + label_download_step           + label_reload_step"
   ]
  },
  {
   "cell_type": "markdown",
   "metadata": {},
   "source": [
    "### Get values"
   ]
  },
  {
   "cell_type": "code",
   "execution_count": 11,
   "metadata": {},
   "outputs": [],
   "source": [
    "Deformation         = []\n",
    "Carga               = []\n",
    "Load_load_step      = []\n",
    "def_load_step       = []\n",
    "Load_creep_step     = []\n",
    "def_creep_step      = []\n",
    "Load_download_step  = []\n",
    "def_download_step   = []\n",
    "Load_reload_step    = []\n",
    "def_reload_step     = []\n",
    "\n",
    "def obtener_textos():\n",
    "    zero = Val_Lect[0]\n",
    "    for Aux_Lect , Aux_Deformation in zip(Val_Lect , Val_Deformation):\n",
    "        Aux_texto_Deformation = round((float(Aux_Lect.get()) - float(zero.get())) * float(Division.get()),2) # El contenido de la etiqueta son cadenas, lo pasamos a flotante\n",
    "        Aux_Deformation.config(text=Aux_texto_Deformation)\n",
    "        Deformation.append(Aux_texto_Deformation)\n",
    "        \n",
    "    for Aux_Carga in Val_Carga:\n",
    "        Aux_texto_Carga = Aux_Carga.cget(\"text\") # .cget() extrae alguna propiedad del widget Val_carga, en este caso \"text\"\n",
    "        Carga.append(Aux_texto_Carga)\n",
    "    \n",
    "    Load_load_step          = Carga[:6]\n",
    "    def_load_step           = Deformation[:6]\n",
    "\n",
    "    Load_creep_step         = Carga[5:11]\n",
    "    def_creep_step          = Deformation[5:11]\n",
    "\n",
    "    Load_download_step      = Carga[10:15]\n",
    "    def_download_step       = Deformation[10:15]\n",
    "    \n",
    "    Load_reload_step        = Carga[14:]\n",
    "    def_reload_step         = Deformation[14:]\n",
    "\n",
    "    print(\"Lecturas ingresadas:\", Deformation)\n",
    "    print(\"Cargas ingresadas:\", Carga)\n",
    "    print(def_load_step)\n",
    "    print(Load_load_step)\n",
    "    print(Load_creep_step)\n",
    "    print(def_creep_step)\n",
    "    return def_load_step , Load_load_step , Load_creep_step , def_creep_step , Load_download_step , def_download_step , Load_reload_step , def_reload_step"
   ]
  },
  {
   "cell_type": "markdown",
   "metadata": {},
   "source": [
    "## Actualizar datos only first data"
   ]
  },
  {
   "cell_type": "code",
   "execution_count": 12,
   "metadata": {},
   "outputs": [
    {
     "data": {
      "text/plain": [
       "'2506005088128actualizar_texto'"
      ]
     },
     "execution_count": 12,
     "metadata": {},
     "output_type": "execute_result"
    }
   ],
   "source": [
    "def actualizar_texto(evento):   #Se agregar el parametro \"evento\" para que sirva de vinculación entre la función y evento...\n",
    "                                #... este caso presionar tecla enter    \n",
    "    Test_load.set(float(Test_coefficient.get())*float(Carga_servicio.get()))\n",
    "\n",
    "    for Aux_Carga, i , Aux_Presion in zip(Val_Carga , Percentage, Val_Presion ):\n",
    "        texto = round(Test_load.get()*i , 2)                  # Obtener el texto del Entry\n",
    "        Aux_Carga.config(text=texto)                        # Actualizar el texto de la Label\n",
    "        texto_1 = round(texto / area_gato.get() * 100 , 1 )   # Redondear a un decimal\n",
    "        Aux_Presion.delete(0,END) # deletes the contents of the entry\n",
    "        Aux_Presion.insert(0,texto_1) # Insert the new value\n",
    "\n",
    "          \n",
    "# Asociar la tecla Enter con la función de actualización\n",
    "Entry_Test_load.bind(\"<Return>\", actualizar_texto)\n",
    "Entry_Carga_servicio.bind(\"<Return>\", actualizar_texto)\n",
    "Entry_Test_coefficient.bind(\"<Return>\", actualizar_texto)\n"
   ]
  },
  {
   "cell_type": "markdown",
   "metadata": {},
   "source": [
    "## Anchors Data"
   ]
  },
  {
   "cell_type": "code",
   "execution_count": 13,
   "metadata": {},
   "outputs": [],
   "source": [
    "# Definir la clase a las variables\n",
    "LL                      = DoubleVar()\n",
    "LB                      = DoubleVar()\n",
    "Drilling_diameter       = DoubleVar()\n",
    "LC                      = DoubleVar()\n",
    "\n",
    "#Title of the anchors\n",
    "title_anchors  = Label(frm, text=\"Datos del anclaje\", font=font_title).grid(column=0,row= 3, columnspan=2)\n",
    "\n",
    "Label_LL                = Label(frm, text=\"Longitud libre [m]\" , justify='left' , font=font_label).grid(column=0,row= 4)\n",
    "Entry_LL                = Entry(frm, textvariable=LL , justify='center')\n",
    "Entry_LL.grid(column=1,row= 4)\n",
    "\n",
    "Label_LB                = Label(frm, text=\"Longitud de bulbo [m]\" , justify='left' , font=font_label).grid(column=0,row= 5)\n",
    "Entry_LB                = Entry(frm, textvariable=LB , justify='center')\n",
    "Entry_LB.grid(column=1,row=5)\n",
    "\n",
    "Label_LC                = Label(frm, text=\"Longitud chicote [m]\" , justify='left' , font=font_label).grid(column=0,row= 6)\n",
    "Entry_LC                = Entry(frm, textvariable=LC , justify='center')\n",
    "Entry_LC.grid(column=1,row=6)\n",
    "\n",
    "Label_diametro_anclaje  = Label(frm, text= \"Diámetro perforación [m]\" , justify='left' , font=font_label).grid(column=0 , row= 7)         \n",
    "Entry_diametro_anclaje  = Entry(frm , justify='center' , textvariable= Drilling_diameter).grid(column=1 , row= 7)"
   ]
  },
  {
   "cell_type": "markdown",
   "metadata": {},
   "source": [
    "## Cable Data"
   ]
  },
  {
   "cell_type": "code",
   "execution_count": 14,
   "metadata": {},
   "outputs": [],
   "source": [
    "Area_steel_total         = DoubleVar()\n",
    "Modulus_elasticity       = DoubleVar()\n",
    "Modulus_elasticity.set(200000)\n",
    "\n",
    "#Title of the cable\n",
    "title_cable  = Label(frm, text=\"Datos de cables\", font=font_title).grid(column=4,row= 3, columnspan=2)\n",
    "\n",
    "Label_steel_data         = Label(frm, text=\"Marca y modelo\" , justify='left' , font=font_label).grid(column=4,row= 4)\n",
    "Entry_Area_steel_total   = Entry(frm, justify='center').grid(column=5,row= 4)\n",
    "\n",
    "Label_Area_steel_total   = Label(frm, text=\"Área de acero [cm2]\" , justify='left' , font=font_label).grid(column=4,row= 5)\n",
    "Entry_Area_steel_total   = Entry(frm, textvariable=Area_steel_total , justify='center')\n",
    "Entry_Area_steel_total.grid(column=5,row= 5)\n",
    "\n",
    "Label_Modulus_elasticity   = Label(frm, text=\"Modulo de elasticidad [MPa]\" , justify='left' , font=font_label).grid(column=4,row= 6)\n",
    "Entry_Modulus_elasticity   = Entry(frm, textvariable=Modulus_elasticity , justify='center')\n",
    "Entry_Modulus_elasticity.grid(column=5,row= 6)"
   ]
  },
  {
   "cell_type": "markdown",
   "metadata": {},
   "source": [
    "## Rectas límites"
   ]
  },
  {
   "cell_type": "code",
   "execution_count": 15,
   "metadata": {},
   "outputs": [],
   "source": [
    "class RL_X: # Definimos el vector de desplazamiento en función del porcentaje\n",
    "    def __init__(self,porcentaje):\n",
    "        self.porcentaje = porcentaje\n",
    "\n",
    "    def RL(self):\n",
    "        Aux = LC.get() + LL.get()*0.90 + LB.get()*0.5*self.porcentaje \n",
    "        return Aux\n",
    "                    \n",
    "    def Vector_x(self):\n",
    "        Aux_vector = [ Deformation[0] , ((self.RL() * Carga[4]) / (float(Modulus_elasticity.get()) * float(Area_steel_total.get()))) * 10000] # self.RL() da el valor de esa función\n",
    "        print(Aux_vector)\n",
    "        return Aux_vector"
   ]
  },
  {
   "cell_type": "markdown",
   "metadata": {},
   "source": [
    "## Imagen anclaje"
   ]
  },
  {
   "cell_type": "code",
   "execution_count": 16,
   "metadata": {},
   "outputs": [],
   "source": [
    "# Cargar la imagen\n",
    "imagen_anclaje = Image.open(r\"C:\\Users\\jjeri\\OneDrive - SRK Consulting\\SRK!\\TKINTER\\Anchors\\anclaje.png\")\n",
    "#imagen_anclaje = imagen_anclaje.resize((100,50))  # Cambiar el tamaño si es necesario\n",
    "imagen_anclaje_tk = ImageTk.PhotoImage(imagen_anclaje)\n",
    "\n",
    "# Crear una etiqueta para mostrar la imagen\n",
    "label_imagen_anclaje = Label(frm, image=imagen_anclaje_tk)\n",
    "label_imagen_anclaje.grid(column=2, row=4, columnspan=2, rowspan=3)"
   ]
  },
  {
   "cell_type": "markdown",
   "metadata": {},
   "source": [
    "## Realizar gráfico"
   ]
  },
  {
   "cell_type": "code",
   "execution_count": 17,
   "metadata": {},
   "outputs": [
    {
     "data": {
      "image/png": "[encoded data removed]",
      "text/plain": [
       "<Figure size 432x288 with 1 Axes>"
      ]
     },
     "metadata": {
      "needs_background": "light"
     },
     "output_type": "display_data"
    }
   ],
   "source": [
    "#Crear figura\n",
    "fig, ax = plt.subplots()\n",
    "\n",
    "def generar_grafico(def_load_step , Load_load_step , Load_creep_step , def_creep_step , Load_download_step , def_download_step ,\n",
    "                    Load_reload_step , def_reload_step): \n",
    "\n",
    "    ax.clear() #limpiar el gráfico, se requiere para no acumular graficos dsp de modificar los datos\n",
    "\n",
    "    # Obtener el índice del último valor mayor o igual a cero\n",
    "    max_indice_1 = next((i for i, valor in enumerate(def_load_step) if valor < 0), len(def_load_step))\n",
    "    max_indice_2 = next((i for i, valor in enumerate(def_creep_step) if valor < 0), len(def_creep_step))\n",
    "    max_indice_3 = next((i for i, valor in enumerate(def_download_step) if valor < 0), len(def_download_step))\n",
    "    max_indice_4 = next((i for i, valor in enumerate(def_reload_step) if valor < 0), len(def_reload_step))\n",
    "    \n",
    "    # Load curve\n",
    "    ax.plot(def_load_step[:max_indice_1], Load_load_step[:max_indice_1], 'g', linewidth=1.5 , label=\"Carga\") \n",
    "    # Creep curve\n",
    "    ax.plot(def_creep_step[:max_indice_2], Load_creep_step[:max_indice_2 ], 'r', linewidth=1.5 , label=\"Creep\")\n",
    "    # Download curve\n",
    "    ax.plot(def_download_step[:max_indice_3], Load_download_step[:max_indice_3 ], 'b', linewidth=1.5 , label=\"Descarga\")\n",
    "    # Reload curve\n",
    "    ax.plot(def_reload_step[:max_indice_4], Load_reload_step[:max_indice_4 ], 'y', linewidth=1.5 , label=\"Recarga\")\n",
    "\n",
    "    # Curvas límite \n",
    "    RL_Y = [Carga[0] , Carga[5]]\n",
    "    ax.plot(RL_X(0.00).Vector_x() , RL_Y, color='gray', linewidth=1 , label='RL[0%]')\n",
    "    ax.plot(RL_X(0.25).Vector_x() , RL_Y, color='gray', linewidth=1 , linestyle='dashed' , label='RL[25%]')\n",
    "    ax.plot(RL_X(0.50).Vector_x() , RL_Y, color='gray', linewidth=1 , linestyle='dashed' , label='RL[50%]')\n",
    "    ax.plot(RL_X(0.75).Vector_x() , RL_Y, color='gray', linewidth=1 , linestyle='dashed' , label='RL[75%]')\n",
    "    ax.plot(RL_X(1.00).Vector_x() , RL_Y, color='gray', linewidth=1 , label='RL[100%]')\n",
    "\n",
    "    # Configurar el gráfico\n",
    "    ax.set_xlabel('Deformación [mm]')\n",
    "    ax.set_ylabel('Carga [kN]')\n",
    "\n",
    "    # Legend location\n",
    "    ax.legend(loc='lower right' , fontsize=8)\n",
    "    \n",
    "    # Agregamos grid y lo configuramos\n",
    "    ax.grid(color='gray', linestyle='dotted', linewidth=0.5)\n",
    "\n",
    "    #Mostrar el gráfico\n",
    "    canvas.draw()\n",
    "\n",
    "#Generar el marco para el gráfico\n",
    "canvas = FigureCanvasTkAgg(fig, master=frm)\n",
    "canvas.get_tk_widget().grid(column=5, row= 8 , rowspan=15, columnspan=8)\n"
   ]
  },
  {
   "cell_type": "markdown",
   "metadata": {},
   "source": [
    "## Vincular Datos y Gráfico"
   ]
  },
  {
   "cell_type": "code",
   "execution_count": 18,
   "metadata": {},
   "outputs": [],
   "source": [
    "def Funciones(evento=None):\n",
    "    Deformation.clear()   # Limpiar el vector Carga y Deformación para que al generar una nueva curva no quede la curva anterior\n",
    "    Carga.clear()\n",
    "    def_load_step , Load_load_step , Load_creep_step , def_creep_step , Load_download_step , def_download_step , Load_reload_step , def_reload_step = obtener_textos()  \n",
    "    generar_grafico(def_load_step , Load_load_step , Load_creep_step , def_creep_step , Load_download_step , def_download_step , Load_reload_step , def_reload_step)\n",
    "\n",
    "def actualizar_label(entry_var, label, load):\n",
    "    Test_load.set(float(Test_coefficient.get())*float(Carga_servicio.get()))\n",
    "    valor = float(entry_var.get())\n",
    "    resultado = round(valor / (Test_load.get()/area_gato.get()) , 1)\n",
    "    label.config(text=f\"{resultado}%\" )\n",
    "    texto = round( valor*area_gato.get() / 100 , 1)\n",
    "    load.config(text=texto)\n",
    "\n",
    "def principal(evento):\n",
    "    for entry, label, load in zip(Val_Presion, Val_label, Val_Carga):\n",
    "        actualizar_label(entry, label, load)\n",
    "    Funciones(evento)\n",
    "\n",
    "# Asociar el evento <Return> a la función principal\n",
    "for entry, lect in zip(Val_Presion , Val_Lect):\n",
    "    entry.bind(\"<Return>\", principal)\n",
    "    lect.bind(\"<Return>\", principal)\n"
   ]
  },
  {
   "cell_type": "markdown",
   "metadata": {},
   "source": [
    "## Contenido ejecutable de la Ventana"
   ]
  },
  {
   "cell_type": "code",
   "execution_count": 19,
   "metadata": {},
   "outputs": [],
   "source": [
    "# Al botón le asigna el comando cerrar\n",
    "Button_1 = Button(frm, text=\"Cerrar\", command=root.destroy).grid(column=9, row=0)\n",
    "\n",
    "# Generar boton de grafico\n",
    "Button_2 = Button(frm, text=\"Graficar\" , command=Funciones).grid(column=10,row=0)"
   ]
  },
  {
   "cell_type": "markdown",
   "metadata": {},
   "source": [
    "## Ejecutor de la ventana"
   ]
  },
  {
   "cell_type": "code",
   "execution_count": 20,
   "metadata": {},
   "outputs": [
    {
     "name": "stdout",
     "output_type": "stream",
     "text": [
      "Lecturas ingresadas: [0.0, 0.0, 0.0, 0.0, 0.0, 0.0, 0.0, 0.0, 0.0, 0.0, 0.0, 0.0, 0.0, 0.0, 0.0, 0.0, 0.0, 0.0, 0.0]\n",
      "Cargas ingresadas: [157.0, 247.43, 494.86, 742.61, 940.43, 990.04, 990.04, 990.04, 990.04, 990.04, 990.04, 841.52, 742.61, 643.39, 494.86, 643.39, 742.61, 841.52, 990.04]\n",
      "[0.0, 0.0, 0.0, 0.0, 0.0, 0.0]\n",
      "[157.0, 247.43, 494.86, 742.61, 940.43, 990.04]\n",
      "[990.04, 990.04, 990.04, 990.04, 990.04, 990.04]\n",
      "[0.0, 0.0, 0.0, 0.0, 0.0, 0.0]\n"
     ]
    },
    {
     "name": "stderr",
     "output_type": "stream",
     "text": [
      "Exception in Tkinter callback\n",
      "Traceback (most recent call last):\n",
      "  File \"c:\\Users\\jjeri\\AppData\\Local\\Programs\\Python\\Python39\\lib\\tkinter\\__init__.py\", line 1892, in __call__\n",
      "    return self.func(*args)\n",
      "  File \"C:\\Users\\jjeri\\AppData\\Local\\Temp/ipykernel_14580/1758013271.py\", line 18, in principal\n",
      "    Funciones(evento)\n",
      "  File \"C:\\Users\\jjeri\\AppData\\Local\\Temp/ipykernel_14580/1758013271.py\", line 5, in Funciones\n",
      "    generar_grafico(def_load_step , Load_load_step , Load_creep_step , def_creep_step , Load_download_step , def_download_step , Load_reload_step , def_reload_step)\n",
      "  File \"C:\\Users\\jjeri\\AppData\\Local\\Temp/ipykernel_14580/3696801852.py\", line 26, in generar_grafico\n",
      "    ax.plot(RL_X(0.00).Vector_x() , RL_Y, color='gray', linewidth=1 , label='RL[0%]')\n",
      "  File \"C:\\Users\\jjeri\\AppData\\Local\\Temp/ipykernel_14580/3898405595.py\", line 10, in Vector_x\n",
      "    Aux_vector = [ Deformation[0] , ((self.RL() * Carga[4]) / (float(Modulus_elasticity.get()) * float(Area_steel_total.get()))) * 10000] # self.RL() da el valor de esa función\n",
      "ZeroDivisionError: float division by zero\n"
     ]
    }
   ],
   "source": [
    "root.mainloop() # Este método hará un bucle eterno, esperando eventos del usuario, hasta que el usuario salga del programa...\n",
    "                # ... ya sea cerrando la ventana, o terminando el programa con una interrupción de teclado en la consola."
   ]
  }
 ],
 "metadata": {
  "kernelspec": {
   "display_name": "Python 3",
   "language": "python",
   "name": "python3"
  },
  "language_info": {
   "codemirror_mode": {
    "name": "ipython",
    "version": 3
   },
   "file_extension": ".py",
   "mimetype": "text/x-python",
   "name": "python",
   "nbconvert_exporter": "python",
   "pygments_lexer": "ipython3",
   "version": "3.9.8"
  },
  "orig_nbformat": 4
 },
 "nbformat": 4,
 "nbformat_minor": 2
}
